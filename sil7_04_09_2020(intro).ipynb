{
  "nbformat": 4,
  "nbformat_minor": 0,
  "metadata": {
    "colab": {
      "name": "sil7_04_09_2020(intro).ipynb",
      "provenance": [],
      "collapsed_sections": [],
      "authorship_tag": "ABX9TyMNgTSVdJhaCCut53Lmbu8L",
      "include_colab_link": true
    },
    "kernelspec": {
      "name": "python3",
      "display_name": "Python 3"
    }
  },
  "cells": [
    {
      "cell_type": "markdown",
      "metadata": {
        "id": "view-in-github",
        "colab_type": "text"
      },
      "source": [
        "<a href=\"https://colab.research.google.com/github/DarkSquirrelComes/sil7_python_2020/blob/master/sil7_04_09_2020(intro).ipynb\" target=\"_parent\"><img src=\"https://colab.research.google.com/assets/colab-badge.svg\" alt=\"Open In Colab\"/></a>"
      ]
    },
    {
      "cell_type": "markdown",
      "metadata": {
        "id": "LSQGeK6Rwrpu",
        "colab_type": "text"
      },
      "source": [
        "# print(\"Hello, Students!\")\n",
        "Давайте пройдёмся по основным конструкциям и особенностям языка и поймём, чем `python` принципиально отличается от, например, `pascal`, который вы изучали в шестом классе."
      ]
    },
    {
      "cell_type": "markdown",
      "metadata": {
        "id": "4d6o0po4qW_N",
        "colab_type": "text"
      },
      "source": [
        "# Объявление переменных\n",
        "В паскале переменные объявляются в специальном блоке `var` и для них всегда нужно яно указывать тип (Int64, Boolean, String...). В питоне переменные можно объявлять в любой точке программы, тип указывать не нужно. Но это не значит, что типа нет! Он есть и его даже можно посмотреть. Объявим несколько переменных:"
      ]
    },
    {
      "cell_type": "code",
      "metadata": {
        "id": "2JY4XsmNsWyt",
        "colab_type": "code",
        "colab": {
          "base_uri": "https://localhost:8080/",
          "height": 51
        },
        "outputId": "0c422830-5943-4777-8130-b1e693cf0095"
      },
      "source": [
        "natural_number = 100500\n",
        "floating_number = 0.33\n",
        "print(natural_number)\n",
        "print(floating_number)"
      ],
      "execution_count": null,
      "outputs": [
        {
          "output_type": "stream",
          "text": [
            "100500\n",
            "0.33\n"
          ],
          "name": "stdout"
        }
      ]
    },
    {
      "cell_type": "markdown",
      "metadata": {
        "id": "soGd5mz3s3DC",
        "colab_type": "text"
      },
      "source": [
        "вот так можно посмотреть тип переменной:"
      ]
    },
    {
      "cell_type": "code",
      "metadata": {
        "id": "TJrsO8Iws9KK",
        "colab_type": "code",
        "colab": {
          "base_uri": "https://localhost:8080/",
          "height": 51
        },
        "outputId": "00c49d36-2a72-4066-c0f0-aa6140586b70"
      },
      "source": [
        "print(type(natural_number))\n",
        "print(type(floating_number))"
      ],
      "execution_count": null,
      "outputs": [
        {
          "output_type": "stream",
          "text": [
            "<class 'int'>\n",
            "<class 'float'>\n"
          ],
          "name": "stdout"
        }
      ]
    },
    {
      "cell_type": "markdown",
      "metadata": {
        "id": "GrgsMEj2tuDI",
        "colab_type": "text"
      },
      "source": [
        "# Немного об особенностях colab\n",
        "Обратите внимание, что в колаб не обязательно писать `print` если вы хотите вывести ОДНО значение."
      ]
    },
    {
      "cell_type": "code",
      "metadata": {
        "id": "cO0CY7S9uEx7",
        "colab_type": "code",
        "colab": {
          "base_uri": "https://localhost:8080/",
          "height": 34
        },
        "outputId": "befd1a00-28f0-4d9e-f317-11a749e2ccf6"
      },
      "source": [
        "x = 123\n",
        "x"
      ],
      "execution_count": null,
      "outputs": [
        {
          "output_type": "execute_result",
          "data": {
            "text/plain": [
              "123"
            ]
          },
          "metadata": {
            "tags": []
          },
          "execution_count": 6
        }
      ]
    },
    {
      "cell_type": "markdown",
      "metadata": {
        "id": "itgl9TD0uIRf",
        "colab_type": "text"
      },
      "source": [
        "А ещё колаб в рамках одной сессии помнит все созданные переменные, даже если они выззываются из разных и даже не последовательных блоков кода. Например, здесь будет видна переменная `natural_number` (если вы запускали тот блок, в котором она создаётся)"
      ]
    },
    {
      "cell_type": "code",
      "metadata": {
        "id": "QjzrEF1iukvt",
        "colab_type": "code",
        "colab": {
          "base_uri": "https://localhost:8080/",
          "height": 34
        },
        "outputId": "5a25b665-7503-4cc8-ce40-c719774902a4"
      },
      "source": [
        "natural_number"
      ],
      "execution_count": null,
      "outputs": [
        {
          "output_type": "execute_result",
          "data": {
            "text/plain": [
              "100500"
            ]
          },
          "metadata": {
            "tags": []
          },
          "execution_count": 7
        }
      ]
    },
    {
      "cell_type": "markdown",
      "metadata": {
        "id": "iW8184JyqOvQ",
        "colab_type": "text"
      },
      "source": [
        "# Арифметика\n",
        "\n",
        "Почти все операции отвечают интуиции и здравому смыслу."
      ]
    },
    {
      "cell_type": "code",
      "metadata": {
        "id": "cv2YlqO5vAEO",
        "colab_type": "code",
        "colab": {
          "base_uri": "https://localhost:8080/",
          "height": 119
        },
        "outputId": "d99581cc-dbf3-48b6-d37e-84dc0aa31ae1"
      },
      "source": [
        "print(100 + 200)\n",
        "print(100 - 500)\n",
        "print(12 * 13)\n",
        "print(112 % 10) # взятие остатка\n",
        "print(2 ** 3)   # возведение в степень \n",
        "x = 2 + 2 * 2\n",
        "print(x)"
      ],
      "execution_count": null,
      "outputs": [
        {
          "output_type": "stream",
          "text": [
            "300\n",
            "-400\n",
            "156\n",
            "2\n",
            "8\n",
            "6\n"
          ],
          "name": "stdout"
        }
      ]
    },
    {
      "cell_type": "markdown",
      "metadata": {
        "id": "pHWVoM9jwXTw",
        "colab_type": "text"
      },
      "source": [
        "Для деления есть две операции - целочисленная и точная."
      ]
    },
    {
      "cell_type": "code",
      "metadata": {
        "id": "V1ZQvtIOwfbH",
        "colab_type": "code",
        "colab": {
          "base_uri": "https://localhost:8080/",
          "height": 51
        },
        "outputId": "bf6833ac-7705-49b8-f975-e966e35d1b87"
      },
      "source": [
        "print(5 / 2)\n",
        "print(5 // 2)"
      ],
      "execution_count": null,
      "outputs": [
        {
          "output_type": "stream",
          "text": [
            "2.5\n",
            "2\n"
          ],
          "name": "stdout"
        }
      ]
    },
    {
      "cell_type": "markdown",
      "metadata": {
        "id": "GXP0360iw4Yy",
        "colab_type": "text"
      },
      "source": [
        "Целочисленное деление и операция взятия остатка работают с отрицательными числами немного необычно. Это связанно с тем, что математически корректнее считать остатками от деления чего угодно на положительное число только не отрицательные числа. То есть \n",
        "\n",
        "`(x // q) * q + (x % q) == x`, где \n",
        "\n",
        "`x % q >= 0`"
      ]
    },
    {
      "cell_type": "code",
      "metadata": {
        "id": "fYW_vlEgxQea",
        "colab_type": "code",
        "colab": {
          "base_uri": "https://localhost:8080/",
          "height": 51
        },
        "outputId": "cc195c08-7ddb-4609-ccc8-40498c0864ef"
      },
      "source": [
        "print(-5 // 2)\n",
        "print(-5 % 2)"
      ],
      "execution_count": null,
      "outputs": [
        {
          "output_type": "stream",
          "text": [
            "-3\n",
            "1\n"
          ],
          "name": "stdout"
        }
      ]
    },
    {
      "cell_type": "markdown",
      "metadata": {
        "id": "VGqj4nHv1ytV",
        "colab_type": "text"
      },
      "source": [
        "С отрицательным делителем такое поведение:"
      ]
    },
    {
      "cell_type": "code",
      "metadata": {
        "id": "l5qesy091rRi",
        "colab_type": "code",
        "colab": {
          "base_uri": "https://localhost:8080/",
          "height": 51
        },
        "outputId": "a3643204-87af-4a38-e0d4-6ec2d3783514"
      },
      "source": [
        "print(5 // -2)\n",
        "print(5 % -2)"
      ],
      "execution_count": null,
      "outputs": [
        {
          "output_type": "stream",
          "text": [
            "-3\n",
            "-1\n"
          ],
          "name": "stdout"
        }
      ]
    },
    {
      "cell_type": "markdown",
      "metadata": {
        "id": "U0YVlO1cpYdg",
        "colab_type": "text"
      },
      "source": [
        "# Условный оператор\n",
        "В питоне по смыслу слабо отличается от условного оператора в любом другом языке. Смотрим пример:"
      ]
    },
    {
      "cell_type": "code",
      "metadata": {
        "id": "0aGOJbeAp5r4",
        "colab_type": "code",
        "colab": {}
      },
      "source": [
        "x = 100500 # попробуйте поменять на 1\n",
        "\n",
        "if x == 1:\n",
        "    print(\"The One\")"
      ],
      "execution_count": null,
      "outputs": []
    },
    {
      "cell_type": "markdown",
      "metadata": {
        "id": "G8XIr2WP2oGz",
        "colab_type": "text"
      },
      "source": [
        "Может быть `else`\n"
      ]
    },
    {
      "cell_type": "code",
      "metadata": {
        "id": "D5Gf1yPB2tn3",
        "colab_type": "code",
        "colab": {}
      },
      "source": [
        "if x == 1:\n",
        "    print(\"The One\")\n",
        "else:\n",
        "    print(\"Not The One\")"
      ],
      "execution_count": null,
      "outputs": []
    },
    {
      "cell_type": "markdown",
      "metadata": {
        "id": "N28U17Lu24e7",
        "colab_type": "text"
      },
      "source": [
        "Можно проверять сразу много условий подряд:"
      ]
    },
    {
      "cell_type": "code",
      "metadata": {
        "id": "z7nIXGgI29IV",
        "colab_type": "code",
        "colab": {}
      },
      "source": [
        "if x < 0:\n",
        "    print(\"x < 0\")\n",
        "elif x == 0:\n",
        "    print(\"Zero\")\n",
        "elif x == 1:\n",
        "    print(\"One\")\n",
        "else:\n",
        "    print(\"Many more\")"
      ],
      "execution_count": null,
      "outputs": []
    },
    {
      "cell_type": "markdown",
      "metadata": {
        "id": "mLTYBQK33y4C",
        "colab_type": "text"
      },
      "source": [
        "Помним про то, что отступы используются вместо `begin` и `end`. И скобочки вокруг условия можно не ставить."
      ]
    },
    {
      "cell_type": "markdown",
      "metadata": {
        "id": "QULCqGX23cVI",
        "colab_type": "text"
      },
      "source": [
        "# Цикл while\n",
        "Работает как всегда:"
      ]
    },
    {
      "cell_type": "code",
      "metadata": {
        "id": "mJs-NRsH3l7y",
        "colab_type": "code",
        "colab": {}
      },
      "source": [
        "x = 1\n",
        "while x * 2 < 10:\n",
        "    print(x)\n",
        "    x = x + 1"
      ],
      "execution_count": null,
      "outputs": []
    },
    {
      "cell_type": "markdown",
      "metadata": {
        "id": "pM_gS1m-4d9d",
        "colab_type": "text"
      },
      "source": [
        "# Цикл for\n",
        "Вот он работает довольно необычно! Сейчас не обязательно всё подробно понять. Если цикл `for` в паскале пробегает именно по некоторому диапозону значений по схеме\n",
        "\n",
        "`for < variable-name > := < initial_value > to [down to] < final_value > do \n",
        "   S;`\n",
        "\n",
        "То в питоне `for` по сути работает с каждым элементом некоторого множества, которое может быть в том числе достаточно необычным. Конечно, сначала мы будем работать с последовательностями чисел, но я хочу, чтобы вы понимали, что это не единственный способ."
      ]
    },
    {
      "cell_type": "code",
      "metadata": {
        "id": "hO8KXKYF6pTz",
        "colab_type": "code",
        "colab": {}
      },
      "source": [
        "s = \"Hello!\"\n",
        "for ch in s:\n",
        "    print(ch)"
      ],
      "execution_count": null,
      "outputs": []
    },
    {
      "cell_type": "code",
      "metadata": {
        "id": "XnBax4BH62Kz",
        "colab_type": "code",
        "colab": {}
      },
      "source": [
        "for x in [100, 20, 0]:\n",
        "    print(x)"
      ],
      "execution_count": null,
      "outputs": []
    },
    {
      "cell_type": "markdown",
      "metadata": {
        "id": "Nbe9vT8S7hOT",
        "colab_type": "text"
      },
      "source": [
        "То, чего все ждали!"
      ]
    },
    {
      "cell_type": "code",
      "metadata": {
        "id": "eMb6aIMS7FJB",
        "colab_type": "code",
        "colab": {}
      },
      "source": [
        "for i in range(10):\n",
        "    print(i)"
      ],
      "execution_count": null,
      "outputs": []
    },
    {
      "cell_type": "markdown",
      "metadata": {
        "id": "nJY3OIa3x8Oc",
        "colab_type": "text"
      },
      "source": [
        "\n",
        "# Как выглядят ошибки\n",
        "Если до этого вы писали на паскале, то наверняка часто сталкивались с ошибками в духе \"забыл поставить ;\". И пока не поставишь, программа не скомпилируется (не создастся исполняемый файл) и не запутится. В питоне не так, здесь этапа компиляции всего кода в один исполняемый файл нет, а команды выполняются строго по одной и ошибка может произойти в любой момент."
      ]
    },
    {
      "cell_type": "code",
      "metadata": {
        "id": "MWaj4R7qy31D",
        "colab_type": "code",
        "colab": {
          "base_uri": "https://localhost:8080/",
          "height": 129
        },
        "outputId": "e25c7508-f658-4fcb-8216-27e808c72706"
      },
      "source": [
        "print(\"Всё хорошо\")\n",
        ":;;;;;abrakadabra!!!"
      ],
      "execution_count": null,
      "outputs": [
        {
          "output_type": "error",
          "ename": "SyntaxError",
          "evalue": "ignored",
          "traceback": [
            "\u001b[0;36m  File \u001b[0;32m\"<ipython-input-1-5cda146963a2>\"\u001b[0;36m, line \u001b[0;32m2\u001b[0m\n\u001b[0;31m    :;;;;;abrakadabra!!!\u001b[0m\n\u001b[0m    ^\u001b[0m\n\u001b[0;31mSyntaxError\u001b[0m\u001b[0;31m:\u001b[0m invalid syntax\n"
          ]
        }
      ]
    },
    {
      "cell_type": "markdown",
      "metadata": {
        "id": "S4y1YIPSzYfB",
        "colab_type": "text"
      },
      "source": [
        "Как видете, google colab, в котором мы работаем вот прямо сейчас, не позволит вам выполнить кусочек кода с совсем уж вопиющей ошибкой. Но что-то такое до ошибки доработает вполне..."
      ]
    },
    {
      "cell_type": "code",
      "metadata": {
        "id": "TfkEJmRUzm32",
        "colab_type": "code",
        "colab": {
          "base_uri": "https://localhost:8080/",
          "height": 214
        },
        "outputId": "89c43cd9-2985-4237-82f9-21c1f8024862"
      },
      "source": [
        "print(\"Пока всё хорошо\")\n",
        "print(1 + \"А вот это странно...\")\n",
        "print(\"И этот текст не напечатается\")"
      ],
      "execution_count": null,
      "outputs": [
        {
          "output_type": "stream",
          "text": [
            "Пока всё хорошо\n"
          ],
          "name": "stdout"
        },
        {
          "output_type": "error",
          "ename": "TypeError",
          "evalue": "ignored",
          "traceback": [
            "\u001b[0;31m---------------------------------------------------------------------------\u001b[0m",
            "\u001b[0;31mTypeError\u001b[0m                                 Traceback (most recent call last)",
            "\u001b[0;32m<ipython-input-3-d9e7d78c499e>\u001b[0m in \u001b[0;36m<module>\u001b[0;34m()\u001b[0m\n\u001b[1;32m      1\u001b[0m \u001b[0mprint\u001b[0m\u001b[0;34m(\u001b[0m\u001b[0;34m\"Пока всё хорошо\"\u001b[0m\u001b[0;34m)\u001b[0m\u001b[0;34m\u001b[0m\u001b[0;34m\u001b[0m\u001b[0m\n\u001b[0;32m----> 2\u001b[0;31m \u001b[0mprint\u001b[0m\u001b[0;34m(\u001b[0m\u001b[0;36m1\u001b[0m \u001b[0;34m+\u001b[0m \u001b[0;34m\"А вот это странно...\"\u001b[0m\u001b[0;34m)\u001b[0m\u001b[0;34m\u001b[0m\u001b[0;34m\u001b[0m\u001b[0m\n\u001b[0m\u001b[1;32m      3\u001b[0m \u001b[0mprint\u001b[0m\u001b[0;34m(\u001b[0m\u001b[0;34m\"Этот текст уже не напечатается\"\u001b[0m\u001b[0;34m)\u001b[0m\u001b[0;34m\u001b[0m\u001b[0;34m\u001b[0m\u001b[0m\n",
            "\u001b[0;31mTypeError\u001b[0m: unsupported operand type(s) for +: 'int' and 'str'"
          ]
        }
      ]
    },
    {
      "cell_type": "markdown",
      "metadata": {
        "id": "tEqz-liXnjL8",
        "colab_type": "text"
      },
      "source": [
        "Обратите внимание на то, как выглядит текст ошибки. Стрелочка показывает на строку, в которой произошла ошибка, рядом со строкой подсвечен её номер.\n",
        "\n",
        "Ниже сам текст ошибки:\n",
        "`TypeError: unsupported operand type(s) for +: 'int' and 'str'`\n",
        "Если вбить в гугл-транслейт, то получится\n",
        "`Ошибка типа: неподдерживаемые типы операндов для +: 'int' и 'str'`\n",
        "Думаю, смысл понятен)\n",
        "\n",
        "Пожалуйста, если у вас возникает ошибка, то старайтесь сначала самостоятельно найти место в коде, где она возникает и понять, что это за ошибка.\n",
        "\n",
        "Спойлер: в питоне ошибки можно \"ловить\" и делать так, чтобы они не останавливали выполнение программы. Но об этом потом."
      ]
    },
    {
      "cell_type": "markdown",
      "metadata": {
        "id": "p-mnY66AHmtZ",
        "colab_type": "text"
      },
      "source": [
        "# Как я буду проверять задачи? (ну, не всегда, но частенько)\n",
        "\n",
        "В питоне есть такая прекрасная команда - `assert`. Она применяется к логическому выражению и если выражение истинно, то не происходит ничего. А если ложно, то выбрасывается ошибка. Вот смотрите:"
      ]
    },
    {
      "cell_type": "code",
      "metadata": {
        "id": "e3Fr90njIXt3",
        "colab_type": "code",
        "colab": {}
      },
      "source": [
        "assert 1 == 1\n",
        "x = 10\n",
        "assert x % 2 == 0"
      ],
      "execution_count": null,
      "outputs": []
    },
    {
      "cell_type": "markdown",
      "metadata": {
        "id": "F0wyMbyrIgJL",
        "colab_type": "text"
      },
      "source": [
        "А вот такой код вызовет ошибку:"
      ]
    },
    {
      "cell_type": "code",
      "metadata": {
        "id": "ts7tXvKeIe9f",
        "colab_type": "code",
        "colab": {}
      },
      "source": [
        "x = 11\n",
        "assert x % 2 == 0"
      ],
      "execution_count": null,
      "outputs": []
    },
    {
      "cell_type": "markdown",
      "metadata": {
        "id": "Lx4g0dmtMD6h",
        "colab_type": "text"
      },
      "source": [
        "Особенно активно мы будем использовать эту фичу тогда, когда научимся писать функции. А пока - не очень."
      ]
    },
    {
      "cell_type": "markdown",
      "metadata": {
        "id": "TjAfaidHKVEz",
        "colab_type": "text"
      },
      "source": [
        "## 0. Тренировочная задачу\n",
        "Сохраните сумму чисел `a` и `b` в переменную `c`. Только и всего!"
      ]
    },
    {
      "cell_type": "code",
      "metadata": {
        "id": "h252I_kHK2oh",
        "colab_type": "code",
        "colab": {}
      },
      "source": [
        "\"\"\"Этот код менять нельзя!\"\"\"\n",
        "a = 12\n",
        "b = 13"
      ],
      "execution_count": null,
      "outputs": []
    },
    {
      "cell_type": "code",
      "metadata": {
        "id": "GZYftrIZLD6a",
        "colab_type": "code",
        "colab": {}
      },
      "source": [
        "\"\"\"Здесь напишите свой код\"\"\"\n"
      ],
      "execution_count": null,
      "outputs": []
    },
    {
      "cell_type": "code",
      "metadata": {
        "id": "Jvgv6SlHLKbT",
        "colab_type": "code",
        "colab": {}
      },
      "source": [
        "\"\"\"Проверка\"\"\"\n",
        "assert c == a + b"
      ],
      "execution_count": null,
      "outputs": []
    },
    {
      "cell_type": "markdown",
      "metadata": {
        "id": "8ijNRCSRLyvL",
        "colab_type": "text"
      },
      "source": [
        "## 1. Задача на if\n",
        "Если число `x` делится на 3, то напечатайте `foo`, если на 5 `bar` а если на оба этих числа, то `foobar`."
      ]
    },
    {
      "cell_type": "code",
      "metadata": {
        "id": "dEjGA0GOMZBx",
        "colab_type": "code",
        "colab": {}
      },
      "source": [
        "\"\"\"Считаем число\"\"\"\n",
        "x = int(input())"
      ],
      "execution_count": null,
      "outputs": []
    },
    {
      "cell_type": "code",
      "metadata": {
        "id": "Yfvc5YTEHydH",
        "colab_type": "code",
        "colab": {}
      },
      "source": [
        "\"\"\"Здесь напишите ваш код\"\"\""
      ],
      "execution_count": null,
      "outputs": []
    },
    {
      "cell_type": "markdown",
      "metadata": {
        "id": "T6KHBD6gMZaT",
        "colab_type": "text"
      },
      "source": [
        "## 2. Задача на while"
      ]
    },
    {
      "cell_type": "code",
      "metadata": {
        "id": "VlqgrnRZMZzR",
        "colab_type": "code",
        "colab": {}
      },
      "source": [
        ""
      ],
      "execution_count": null,
      "outputs": []
    },
    {
      "cell_type": "markdown",
      "metadata": {
        "id": "bCGKOzF_Mji_",
        "colab_type": "text"
      },
      "source": [
        "## 3. Задача на for"
      ]
    },
    {
      "cell_type": "code",
      "metadata": {
        "id": "Oo88QILJMwYZ",
        "colab_type": "code",
        "colab": {}
      },
      "source": [
        ""
      ],
      "execution_count": null,
      "outputs": []
    }
  ]
}